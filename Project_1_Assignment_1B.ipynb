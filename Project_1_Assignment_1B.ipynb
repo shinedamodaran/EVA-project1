{
  "nbformat": 4,
  "nbformat_minor": 0,
  "metadata": {
    "colab": {
      "name": "Project 1 - Assignment 1B",
      "version": "0.3.2",
      "provenance": [],
      "include_colab_link": true
    },
    "kernelspec": {
      "name": "python3",
      "display_name": "Python 3"
    }
  },
  "cells": [
    {
      "cell_type": "markdown",
      "metadata": {
        "id": "view-in-github",
        "colab_type": "text"
      },
      "source": [
        "<a href=\"https://colab.research.google.com/github/shinedamodaran/EVA-project1/blob/master/Project_1_Assignment_1B.ipynb\" target=\"_parent\"><img src=\"https://colab.research.google.com/assets/colab-badge.svg\" alt=\"Open In Colab\"/></a>"
      ]
    },
    {
      "cell_type": "code",
      "metadata": {
        "id": "CFF25aiZypHG",
        "colab_type": "code",
        "colab": {}
      },
      "source": [
        "https://github.com/shinedamodaran/Project-1/blob/master/README.md"
      ],
      "execution_count": 0,
      "outputs": []
    }
  ]
}